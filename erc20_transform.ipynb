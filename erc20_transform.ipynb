{
	"cells": [
		{
			"cell_type": "code",
			"execution_count": null,
			"metadata": {
				"editable": true,
				"trusted": true,
				"vscode": {
					"languageId": "python_glue_session"
				}
			},
			"outputs": [],
			"source": [
				"%idle_timeout 2880\n",
				"%glue_version 5.0\n",
				"%worker_type G.1X\n",
				"%number_of_workers 5\n",
				"\n",
				"import sys\n",
				"from awsglue.transforms import *\n",
				"from awsglue.utils import getResolvedOptions\n",
				"from pyspark.context import SparkContext\n",
				"from awsglue.context import GlueContext\n",
				"from awsglue.job import Job\n",
				"  \n",
				"sc = SparkContext.getOrCreate()\n",
				"glueContext = GlueContext(sc)\n",
				"spark = glueContext.spark_session\n",
				"job = Job(glueContext)\n"
			]
		},
		{
			"cell_type": "code",
			"execution_count": null,
			"metadata": {
				"editable": true,
				"trusted": true,
				"vscode": {
					"languageId": "python_glue_session"
				}
			},
			"outputs": [],
			"source": [
				"hadoop_conf = sc._jsc.hadoopConfiguration()\n",
				"hadoop_conf.set(\"fs.s3a.aws.credentials.provider\", \"org.apache.hadoop.fs.s3a.AnonymousAWSCredentialsProvider\")\n",
				"hadoop_conf.set(\"fs.s3a.endpoint\", \"s3.amazonaws.com\")\n",
				"hadoop_conf.set(\"fs.s3a.connection.ssl.enabled\", \"true\")\n",
				"hadoop_conf.set(\"fs.s3a.impl\", \"org.apache.hadoop.fs.s3a.S3AFileSystem\")\n"
			]
		},
		{
			"cell_type": "code",
			"execution_count": null,
			"metadata": {
				"vscode": {
					"languageId": "python_glue_session"
				}
			},
			"outputs": [],
			"source": [
				"OUTPUT_BASE = \"s3://rwa-xyz-interview-ethan/results\""
			]
		},
		{
			"cell_type": "code",
			"execution_count": null,
			"metadata": {
				"editable": true,
				"trusted": true,
				"vscode": {
					"languageId": "python_glue_session"
				}
			},
			"outputs": [],
			"source": [
				"eth_logs = \"s3a://rwa-xyz-recruiting-data/eth_logs_decoded/\"\n",
				"eth_logs_df = spark.read.parquet(eth_logs)\n",
				"\n",
				"eth_logs_df.printSchema()\n",
				"\n",
				"tokens_path = \"s3://rwa-xyz-interview-ethan/tokens.csv\"\n",
				"tokens_df = (\n",
				"    spark.read.option(\"header\", True)\n",
				"    .csv(tokens_path)\n",
				")\n",
				"\n",
				"tokens_df.show(5)"
			]
		},
		{
			"cell_type": "code",
			"execution_count": null,
			"metadata": {
				"editable": true,
				"trusted": true,
				"vscode": {
					"languageId": "python_glue_session"
				}
			},
			"outputs": [],
			"source": [
				"from pyspark.sql import functions as F, Window\n",
				"from pyspark.sql.types import DecimalType, StringType\n",
				"import re\n",
				"\n",
				"def safe_hex_to_dec(hex_str):\n",
				"    if not hex_str or hex_str == \"0x\" or hex_str == \"0x0\":\n",
				"        return \"0\"\n",
				"    try:\n",
				"        return str(int(re.sub(\"^0x\", \"\", hex_str), 16))\n",
				"    except Exception:\n",
				"        return None\n",
				"\n",
				"safe_hex_to_dec_udf = F.udf(safe_hex_to_dec, StringType())\n",
				"\n",
				"# filter for transfer events \n",
				"TRANSFER_SIG = \"0xddf252ad1be2c89b69c2b068fc378daa952ba7f163c4a11628f55a4df523b3ef\"\n",
				"\n",
				"erc20_df = (\n",
				"    eth_logs_df\n",
				"    .filter(\n",
				"        (F.col(\"TOPIC0\") == TRANSFER_SIG) &\n",
				"        (F.col(\"DATA\").isNotNull()) &\n",
				"        (F.length(\"DATA\") <= 66)\n",
				"    )\n",
				"    .alias(\"e\")\n",
				"    .join(tokens_df.alias(\"t\"), F.col(\"e.ADDRESS\") == F.col(\"t.address\"), \"inner\")\n",
				")\n",
				"\n",
				"\n",
				"erc20_df = erc20_df \\\n",
				"    .withColumn(\"transfer_amount_unscaled_str\", safe_hex_to_dec_udf(F.col(\"DATA\"))) \\\n",
				"    .withColumn(\n",
				"        \"transfer_amount\",\n",
				"        (\n",
				"            (F.col(\"transfer_amount_unscaled_str\").cast(\"decimal(38,0)\") /\n",
				"            F.pow(10, F.coalesce(F.col(\"t.decimals\"), F.lit(18)))).cast(\"decimal(38,18)\")\n",
				"        )\n",
				"    ).select(\n",
				"    F.col(\"e.LOG_INDEX\").alias(\"log_index\"),\n",
				"    F.col(\"e.TRANSACTION_HASH\").alias(\"tx_hash\"),\n",
				"    F.col(\"e.TRANSACTION_INDEX\").alias(\"tx_index\"),\n",
				"    F.col(\"e.BLOCK_NUMBER\").alias(\"block_no\"),\n",
				"    F.col(\"e.BLOCK_HASH\").alias(\"block_hash\"),\n",
				"    F.col(\"e.ADDRESS\").alias(\"address\"),\n",
				"    F.col(\"e.BLOCK_TIMESTAMP\").alias(\"block_ts\"),\n",
				"    F.concat(F.lit(\"0x\"), F.substring(F.col(\"e.TOPIC1\"), -40, 40)).alias(\"sender\"),\n",
				"    F.concat(F.lit(\"0x\"), F.substring(F.col(\"e.TOPIC2\"), -40, 40)).alias(\"receiver\"),\n",
				"    # Handle 0x or 0x0 cases -> 0, else convert properly\n",
				"    F.col(\"transfer_amount\"),\n",
				"    F.col(\"transfer_amount_unscaled_str\"),\n",
				"    F.col(\"e.DATA\").alias(\"transfer_amount_raw\"),\n",
				"    F.col(\"t.symbol\").alias(\"token_symbol\"),\n",
				"    F.col(\"t.name\").alias(\"token_name\")\n",
				").persist()\n",
				"\n",
				"erc20_df.select(\"tx_hash\", \"address\", \"sender\", \"receiver\", \"transfer_amount_raw\", \"transfer_amount_unscaled_str\", \"transfer_amount\").show(50,truncate=False)\n"
			]
		},
		{
			"cell_type": "code",
			"execution_count": null,
			"metadata": {
				"tags": [],
				"trusted": true,
				"vscode": {
					"languageId": "python_glue_session"
				}
			},
			"outputs": [],
			"source": [
				"# Compute most transferred token\n",
				"granularity = 'week'\n",
				"time_df = (\n",
				"    erc20_df\n",
				"    .withColumn(\"period_start\", F.date_trunc(granularity, F.col(\"block_ts\")))\n",
				")\n",
				"\n",
				"token_time_agg = (\n",
				"    time_df\n",
				"    .groupBy(\"period_start\", \"token_symbol\", \"token_name\", \"address\")\n",
				"    .agg(F.sum(\"transfer_amount\").alias(\"total_transfer_amount\"))\n",
				")\n",
				"\n",
				"token_time_ranked = (\n",
				"    token_time_agg\n",
				"    .withColumn(\n",
				"        \"rank\",\n",
				"        F.row_number().over(\n",
				"            Window.partitionBy(\"period_start\").orderBy(F.desc(\"total_transfer_amount\"))\n",
				"        )\n",
				"    )\n",
				")\n",
				"\n",
				"most_transferred_per_period = (\n",
				"    token_time_ranked\n",
				"    .filter(F.col(\"rank\") == 1)\n",
				"    .select(\"period_start\", \"token_symbol\", \"token_name\", \"address\", \"total_transfer_amount\")\n",
				")\n",
				"\n",
				"most_transferred_per_period.persist()\n",
				"most_transferred_per_period.show(50, truncate=False)"
			]
		},
		{
			"cell_type": "code",
			"execution_count": null,
			"metadata": {
				"tags": [],
				"trusted": true,
				"vscode": {
					"languageId": "python_glue_session"
				}
			},
			"outputs": [],
			"source": [
				"# Compute most active sender\n",
				"daily_df = (\n",
				"    erc20_df\n",
				"    .withColumn(\"event_date\", F.to_date(\"block_ts\"))\n",
				")\n",
				"\n",
				"daily_counts = (\n",
				"    daily_df\n",
				"    .groupBy(\"event_date\", \"sender\")\n",
				"    .agg(F.count(\"*\").alias(\"daily_transfer_count\"))\n",
				")\n",
				"\n",
				"daily_counts = daily_counts.withColumn(\n",
				"    \"event_ts\", F.col(\"event_date\").cast(\"timestamp\").cast(\"long\")\n",
				")\n",
				"\n",
				"# Use offset from epoch to account for gaps in transfer activity\n",
				"window_spec = Window.partitionBy(\"sender\") \\\n",
				"                    .orderBy(F.col(\"event_ts\")) \\\n",
				"                    .rangeBetween(-604800, 0)\n",
				"\n",
				"rolling_7day = (\n",
				"    daily_counts\n",
				"    .withColumn(\"rolling_7day_count\", F.sum(\"daily_transfer_count\").over(window_spec))\n",
				")\n",
				"\n",
				"ranked_senders = (\n",
				"    rolling_7day\n",
				"    .withColumn(\n",
				"        \"rank\",\n",
				"        F.row_number().over(\n",
				"            Window.partitionBy(\"event_date\").orderBy(F.desc(\"rolling_7day_count\"))\n",
				"        )\n",
				"    )\n",
				")\n",
				"\n",
				"most_active_sender_per_day_trailing7d = (\n",
				"    ranked_senders\n",
				"    .filter(F.col(\"rank\") == 1)\n",
				"    .select(\"event_date\", \"sender\", \"rolling_7day_count\")\n",
				")\n",
				"\n",
				"most_active_sender_per_day_trailing7d.persist()\n",
				"\n",
				"most_active_sender_per_day_trailing7d.show(50, truncate=False)\n"
			]
		},
		{
			"cell_type": "code",
			"execution_count": 23,
			"metadata": {
				"tags": [],
				"trusted": true,
				"vscode": {
					"languageId": "python_glue_session"
				}
			},
			"outputs": [
				{
					"name": "stdout",
					"output_type": "stream",
					"text": [
						"\n"
					]
				}
			],
			"source": [
				"erc20_df.unpersist()\n",
				"\n",
				"most_transferred_per_period.coalesce(1).write.mode(\"overwrite\").option(\"header\", True).csv(f\"{OUTPUT_BASE}/most_transferred_per_week\")\n",
				"most_active_sender_per_day_trailing7d.coalesce(1).write.mode(\"overwrite\").option(\"header\", True).csv(f\"{OUTPUT_BASE}/most_active_sender_per_day\")\n"
			]
		}
	],
	"metadata": {
		"kernelspec": {
			"display_name": "Glue PySpark",
			"language": "python",
			"name": "glue_pyspark"
		},
		"language_info": {
			"codemirror_mode": {
				"name": "python",
				"version": 3
			},
			"file_extension": ".py",
			"mimetype": "text/x-python",
			"name": "Python_Glue_Session",
			"pygments_lexer": "python3"
		}
	},
	"nbformat": 4,
	"nbformat_minor": 4
}
